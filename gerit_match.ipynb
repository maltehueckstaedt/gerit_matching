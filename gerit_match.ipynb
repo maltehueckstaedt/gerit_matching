{
 "cells": [
  {
   "cell_type": "markdown",
   "metadata": {},
   "source": [
    "# GERIT MATCH"
   ]
  },
  {
   "cell_type": "code",
   "execution_count": null,
   "metadata": {},
   "outputs": [],
   "source": [
    "# Aktuelles Arbeitsverzeichnis ermitteln\n",
    "import os\n",
    "os.getcwd()\n",
    "os.chdir(\"c:/Users/Hueck/OneDrive/Dokumente/GitHub/gerit_matching\")"
   ]
  },
  {
   "cell_type": "markdown",
   "metadata": {},
   "source": [
    "Lade Daten"
   ]
  },
  {
   "cell_type": "code",
   "execution_count": null,
   "metadata": {},
   "outputs": [],
   "source": [
    "import pandas as pd\n",
    "\n",
    "db_hhu = pd.read_csv(\"data\\hhu_db_raw.csv\")\n",
    "db_hhu = db_hhu.sample(n=20, random_state=42)  # random_state für Reproduzierbarkeit\n",
    "\n",
    "\n",
    "hhu_gerit = pd.read_excel(\"data/hhu_gerit.xlsx\")"
   ]
  },
  {
   "cell_type": "markdown",
   "metadata": {},
   "source": [
    "Orgas manuell matchen"
   ]
  },
  {
   "cell_type": "code",
   "execution_count": null,
   "metadata": {},
   "outputs": [],
   "source": [
    "# Dictionary für schnellen Lookup aus hhu_gerot erstellen\n",
    "mapping_dict = dict(zip(hhu_gerit[\"Einrichtung\"], hhu_gerit[\"Einrichtung\"]))\n",
    "\n",
    "# Exakte Matches zuordnen, nicht gefundene bleiben NaN\n",
    "db_hhu[\"matched_organisation\"] = db_hhu[\"organisation_mehrere\"].map(mapping_dict)\n"
   ]
  },
  {
   "cell_type": "markdown",
   "metadata": {},
   "source": [
    "### LLM laden\n",
    "\n"
   ]
  },
  {
   "cell_type": "code",
   "execution_count": null,
   "metadata": {},
   "outputs": [],
   "source": [
    "from dotenv import load_dotenv\n",
    "\n",
    "# Lade Umgebungsvariablen aus der .env Datei\n",
    "load_dotenv()\n",
    "\n",
    "from langchain_openai import ChatOpenAI\n",
    "llm = ChatOpenAI(model=\"gpt-4o-mini\")"
   ]
  },
  {
   "cell_type": "code",
   "execution_count": 53,
   "metadata": {},
   "outputs": [],
   "source": [
    "import openai\n",
    "import pandas as pd\n",
    "from typing import List\n",
    "from langchain_openai import OpenAIEmbeddings\n",
    "from langchain_core.vectorstores import InMemoryVectorStore\n",
    "from langchain_core.documents import Document\n",
    "from langchain_core.runnables import chain\n",
    "from langchain.agents.agent_toolkits import create_retriever_tool\n",
    "\n",
    "# Funktion zur Erstellung von Embeddings mit dem neuen Modell\n",
    "embeddings = OpenAIEmbeddings(model=\"text-embedding-3-large\")\n",
    "\n",
    "# Erstelle InMemoryVectorStore für GERIT-Organisationen\n",
    "vector_store = InMemoryVectorStore(embeddings)\n",
    "\n",
    "# Alle Organisationen aus GERIT zu den Vektoren hinzufügen\n",
    "docs = [Document(page_content=einrichtung) for einrichtung in hhu_gerit[\"Einrichtung\"].tolist()]\n",
    "vector_store.add_documents(docs)\n",
    "\n",
    "# Definiere den Retriever als Chain mit Scores\n",
    "@chain\n",
    "def retriever(query: str) -> List[Document]:\n",
    "    results = vector_store.similarity_search_with_score(query, k=5)\n",
    "    docs, scores = zip(*results) if results else ([], [])\n",
    "    \n",
    "    for doc, score in zip(docs, scores):\n",
    "        doc.metadata[\"score\"] = score  # Füge den Score als Metadaten hinzu\n",
    "\n",
    "    return list(docs)\n",
    "\n",
    "# Beschreibung für den Retriever\n",
    "description = (\n",
    "    \"Sucht nach gültigen Eigennamen basierend auf einer ungefähren Eingabe und gibt die Ähnlichkeitsscores zurück. \"\n",
    "    \"Falls keine passende Entsprechung gefunden wird, wird 'NA' zurückgegeben.\"\n",
    ")\n",
    "\n",
    "# Retriever-Tool erstellen\n",
    "retriever_tool = create_retriever_tool(\n",
    "    retriever,\n",
    "    name=\"search_proper_nouns_with_score\",\n",
    "    description=description,\n",
    ")\n"
   ]
  },
  {
   "cell_type": "code",
   "execution_count": 58,
   "metadata": {},
   "outputs": [
    {
     "name": "stdout",
     "output_type": "stream",
     "text": [
      "Text: Fach Chemie, Score: 0.7509780915567487\n",
      "Text: Fach Physik, Score: 0.5848930936229463\n",
      "Text: Institut für Physikalische Chemie, Score: 0.5569949476123793\n",
      "Text: Fach Pharmazie, Score: 0.5564846229056805\n",
      "Text: Lehrstuhl für Organische Chemie, Score: 0.5424619572449465\n"
     ]
    }
   ],
   "source": [
    "query = \"Chemie\"\n",
    "results = retriever.invoke(query)\n",
    "\n",
    "# Ergebnisse anzeigen\n",
    "for doc in results:\n",
    "    print(f\"Text: {doc.page_content}, Score: {doc.metadata['score']}\")\n"
   ]
  },
  {
   "cell_type": "code",
   "execution_count": 48,
   "metadata": {},
   "outputs": [],
   "source": [
    "\n",
    "# Funktion zum Abgleichen von Organisationen\n",
    "def match_organisation(query, mapping_dict, retriever):\n",
    "    if not isinstance(query, str):\n",
    "        return None  # Falls query kein String ist\n",
    "    \n",
    "    orgs = [org.strip() for org in query.split(';')]  # Aufteilen und Leerzeichen entfernen\n",
    "    matched_orgs = []\n",
    "\n",
    "    for org in orgs:\n",
    "        # 1. Prüfen, ob eine exakte Übereinstimmung existiert\n",
    "        if org in mapping_dict:\n",
    "            matched_orgs.append(mapping_dict[org])\n",
    "        else:\n",
    "            # 2. Falls keine exakte Übereinstimmung, unscharfe Suche über den Retriever\n",
    "            results = retriever.get_relevant_documents(org)\n",
    "\n",
    "            # Sicherstellen, dass ein Ergebnis existiert und den Score-Threshold erfüllt\n",
    "            if results and results[0].metadata.get(\"score\", 0) >= 0.5:\n",
    "                matched_orgs.append(results[0].page_content)\n",
    "\n",
    "    return \"; \".join(matched_orgs) if matched_orgs else None  # Falls Matches vorhanden, mit \"; \" verbinden\n",
    "\n",
    "\n"
   ]
  },
  {
   "cell_type": "code",
   "execution_count": null,
   "metadata": {},
   "outputs": [
    {
     "name": "stdout",
     "output_type": "stream",
     "text": [
      "                                                   titel  \\\n",
      "9970   Koloniale Spuren im Bergischen Land (unter bes...   \n",
      "10389                   Campaigning - analog und digital   \n",
      "5485    Praktikum zum Kurs der Zahnärztlichen Radiologie   \n",
      "5848                  Der Kalte Krieg in Ostmitteleuropa   \n",
      "9671   FÄLLT AUS: Grünes NRW.  Umweltverschmutzung, B...   \n",
      "20122  DFS4120 Deutschkurs für Studierende naturwisse...   \n",
      "12026  Communication Skills bei neurologischen Erkran...   \n",
      "10543             BW31 - Kurs 1 & 2: Innovationsökonomik   \n",
      "385                      Raumbuchung Berufungskommission   \n",
      "2312                             Hebräische Sprachpraxis   \n",
      "10392  Konstruktiver Journalismus: Begriff, Zuwendung...   \n",
      "16839             MW42 - Kurs 1: Entrepreneurial Finance   \n",
      "19292                                     English Syntax   \n",
      "14133  Experimentelle Übungen Bio 110: Zell und Molek...   \n",
      "14267                       Mitarbeiterseminar AG Nowack   \n",
      "17217                     Recht der digitalen Wirtschaft   \n",
      "7760                               Chemisches Kolloquium   \n",
      "4988   Wissenschaftliches Arbeiten: Forschungsprojekt...   \n",
      "10512      BQ-Module - Projektarbeit (Lehrstuhl Engelen)   \n",
      "19630                                      Bedürftigkeit   \n",
      "\n",
      "                                                     url  \\\n",
      "9970   https://lsf.hhu.de/qisserver/rds?state=verpubl...   \n",
      "10389  https://lsf.hhu.de/qisserver/rds?state=verpubl...   \n",
      "5485   https://lsf.hhu.de/qisserver/rds?state=verpubl...   \n",
      "5848   https://lsf.hhu.de/qisserver/rds?state=verpubl...   \n",
      "9671   https://lsf.hhu.de/qisserver/rds?state=verpubl...   \n",
      "20122  https://lsf.hhu.de/qisserver/rds?state=verpubl...   \n",
      "12026  https://lsf.hhu.de/qisserver/rds?state=verpubl...   \n",
      "10543  https://lsf.hhu.de/qisserver/rds?state=verpubl...   \n",
      "385    https://lsf.hhu.de/qisserver/rds?state=verpubl...   \n",
      "2312   https://lsf.hhu.de/qisserver/rds?state=verpubl...   \n",
      "10392  https://lsf.hhu.de/qisserver/rds?state=verpubl...   \n",
      "16839  https://lsf.hhu.de/qisserver/rds?state=verpubl...   \n",
      "19292  https://lsf.hhu.de/qisserver/rds?state=verpubl...   \n",
      "14133  https://lsf.hhu.de/qisserver/rds?state=verpubl...   \n",
      "14267  https://lsf.hhu.de/qisserver/rds?state=verpubl...   \n",
      "17217  https://lsf.hhu.de/qisserver/rds?state=verpubl...   \n",
      "7760   https://lsf.hhu.de/qisserver/rds?state=verpubl...   \n",
      "4988   https://lsf.hhu.de/qisserver/rds?state=verpubl...   \n",
      "10512  https://lsf.hhu.de/qisserver/rds?state=verpubl...   \n",
      "19630  https://lsf.hhu.de/qisserver/rds?state=verpubl...   \n",
      "\n",
      "                                    organisation_mehrere  \\\n",
      "9970               Institut für Geschichtswissenschaften   \n",
      "10389  Abteilung für Kommunikations- und Medienwissen...   \n",
      "5485   Poliklinik für Zahnärztliche Chirurgie und Auf...   \n",
      "5848   Institut für Geschichtswissenschaften ; Abteil...   \n",
      "9671               Institut für Geschichtswissenschaften   \n",
      "20122                                                NaN   \n",
      "12026  Medizinische Fakultät ; Studiendekanat Medizin...   \n",
      "10543  Wirtschaftswissenschaftliche Fakultät ; DICE (...   \n",
      "385                             Mikrobielle Zellbiologie   \n",
      "2312                       Institut für Jüdische Studien   \n",
      "10392  Abteilung für Kommunikations- und Medienwissen...   \n",
      "16839  Wirtschaftswissenschaftliche Fakultät ; Lehrst...   \n",
      "19292                                                NaN   \n",
      "14133        Pflanzliche Zellbiologie und Biotechnologie   \n",
      "14267                           Mikrobielle Zellbiologie   \n",
      "17217                                                NaN   \n",
      "7760                Wissenschaftliche Einrichtung Chemie   \n",
      "4988                Studiendekanat Medizinische Fakultät   \n",
      "10512  Lehrstuhl für Betriebswirtschaftslehre, insbes...   \n",
      "19630                                                NaN   \n",
      "\n",
      "                                    matched_organisation  \n",
      "9970                                                None  \n",
      "10389                  Institut für Sozialwissenschaften  \n",
      "5485   Poliklinik für Zahnärztliche Chirurgie und Auf...  \n",
      "5848                                                None  \n",
      "9671                                                None  \n",
      "20122                                               None  \n",
      "12026                                               None  \n",
      "10543              Wirtschaftswissenschaftliche Fakultät  \n",
      "385                                                 None  \n",
      "2312                       Institut für Jüdische Studien  \n",
      "10392                                               None  \n",
      "16839              Wirtschaftswissenschaftliche Fakultät  \n",
      "19292                                               None  \n",
      "14133                                               None  \n",
      "14267                                               None  \n",
      "17217                                               None  \n",
      "7760                                                None  \n",
      "4988                                                None  \n",
      "10512              Wirtschaftswissenschaftliche Fakultät  \n",
      "19630                                               None  \n"
     ]
    }
   ],
   "source": [
    "\n",
    "# Dictionary für exakte Übereinstimmungen erstellen\n",
    "mapping_dict = dict(zip(hhu_gerit[\"Einrichtung\"], hhu_gerit[\"Einrichtung\"]))\n",
    "\n",
    "# # Anwenden auf DataFrame mit exakten + unscharfen Matches\n",
    "# db_hhu[\"matched_organisation\"] = db_hhu[\"organisation_mehrere\"].apply(\n",
    "#     lambda x: match_organisation(x, mapping_dict, retriever)\n",
    "# )\n",
    "\n",
    "\n",
    "\n",
    "\n",
    "\n",
    "# Zuordnung der Organisationen aus db_hhu zu den GERIT-Organisationen\n",
    "db_hhu[\"matched_organisation\"] = db_hhu[\"organisation_mehrere\"].apply(\n",
    "    lambda x: match_organisation(x, mapping_dict, retriever)\n",
    ")\n",
    "# Ergebnisse ausgeben\n",
    "print(db_hhu)\n"
   ]
  }
 ],
 "metadata": {
  "kernelspec": {
   "display_name": "match_gerit",
   "language": "python",
   "name": "python3"
  },
  "language_info": {
   "codemirror_mode": {
    "name": "ipython",
    "version": 3
   },
   "file_extension": ".py",
   "mimetype": "text/x-python",
   "name": "python",
   "nbconvert_exporter": "python",
   "pygments_lexer": "ipython3",
   "version": "3.9.21"
  }
 },
 "nbformat": 4,
 "nbformat_minor": 2
}
