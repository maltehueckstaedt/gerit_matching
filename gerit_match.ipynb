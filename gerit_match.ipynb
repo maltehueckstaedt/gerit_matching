{
  "cells": [
    {
      "cell_type": "markdown",
      "metadata": {
        "id": "15hMpVh2h_-D"
      },
      "source": [
        "# GERIT PRE-Matching\n",
        "\n",
        "Im folgenden wird ein Notebook entworfen, dass das derzeitige Matching der HEX der Daten mit GERIT-Organisationen erleichtern soll. Im Derzeitigen Stand geht folgendermaßen vor:\n",
        "\n",
        "Es wird von einem klassischen Cleaning der Organisations-Variable, wie sie aus den Scrapiung kommt, abgesehen, weil es im vergleich zum folgenden Vorgehen (und angesichts des Umstandes, dass wir ja die *wahren* Organisationennamen schon kennen) uneffizient und die Gefahr von Artfacten höher erscheint.\n",
        "\n",
        "Statt eines klassischen Cleanings mit Hilfe von LLMs wird eine Funktion implementiert,die nach Entsprechungen in der Liste der GERIT-Organisationen. Dafür werden mit OpenAI Embeddings Vektor-Repräsentationen aller GERIT-Namen erstellt. Ein *„Retriever“* durchsucht diese Vektoren, um die besten Übereinstimmungen zu einem gegebenen Namen (also den Organisationsnamen aus dem Scraping) zu finden. Das Modell kann z. B. erkennen, dass „*Institut für Biologie*“ und „*Department Biologie*“ wahrscheinlich dasselbe meinen.\n",
        "\n",
        "Für jede Organisation wird überprüft, ob es eine exakte Übereinstimmung gibt. Falls ja, wird der offizielle GERIT-Name übernommen. Falls keine exakte Übereinstimmung gefunden wird, kommt ein Fuzzy Matching zum Einsatz, bei dem ein kosinusbasierter Score berechnet wird (0 = völlig unterschiedliche Begriffe, 1 = perfekte Übereinstimmung). Ist der Score hoch genug (aktuell: > 0.5), wird der bestpassende GERIT-Treffer übernommen. Falls keine passende Entsprechung gefunden wird, bleibt der Wert NA.\n",
        "\n",
        "Vorteile: Die Funktion spart Zeit – 20.000 Zeilen und 250 unique Werte werden in etwa 1,5 Minuten umcodiert. Zudem ist kein manuelles Coding oder eine zusätzliche Aufbereitung der Organisationsvariablen nötig. Mit dem Score-Cutoff kann weiterhin die Konservativität des tools gesteuert werden.\n",
        "\n",
        "Nachteile: Die Qualität der Zuordnung muss geprüft werden, und es bleibt die Frage, wie sich das neue >>Cleaning>> oder Vor-Matching auf nachfolgende Analysen auswirkt.\n",
        "\n"
      ]
    },
    {
      "cell_type": "code",
      "execution_count": 2,
      "metadata": {
        "id": "J0tiI6aph_-E",
        "outputId": "c0d9a08f-fce8-4d8e-a5d8-e358af20b1b7",
        "colab": {
          "base_uri": "https://localhost:8080/",
          "height": 176
        }
      },
      "outputs": [
        {
          "output_type": "error",
          "ename": "FileNotFoundError",
          "evalue": "[Errno 2] No such file or directory: 'c:/Users/Hueck/OneDrive/Dokumente/GitHub/gerit_matching'",
          "traceback": [
            "\u001b[0;31m---------------------------------------------------------------------------\u001b[0m",
            "\u001b[0;31mFileNotFoundError\u001b[0m                         Traceback (most recent call last)",
            "\u001b[0;32m<ipython-input-2-efceba6fd909>\u001b[0m in \u001b[0;36m<cell line: 0>\u001b[0;34m()\u001b[0m\n\u001b[1;32m      2\u001b[0m \u001b[0;32mimport\u001b[0m \u001b[0mos\u001b[0m\u001b[0;34m\u001b[0m\u001b[0;34m\u001b[0m\u001b[0m\n\u001b[1;32m      3\u001b[0m \u001b[0mos\u001b[0m\u001b[0;34m.\u001b[0m\u001b[0mgetcwd\u001b[0m\u001b[0;34m(\u001b[0m\u001b[0;34m)\u001b[0m\u001b[0;34m\u001b[0m\u001b[0;34m\u001b[0m\u001b[0m\n\u001b[0;32m----> 4\u001b[0;31m \u001b[0mos\u001b[0m\u001b[0;34m.\u001b[0m\u001b[0mchdir\u001b[0m\u001b[0;34m(\u001b[0m\u001b[0;34m\"c:/Users/Hueck/OneDrive/Dokumente/GitHub/gerit_matching\"\u001b[0m\u001b[0;34m)\u001b[0m\u001b[0;34m\u001b[0m\u001b[0;34m\u001b[0m\u001b[0m\n\u001b[0m",
            "\u001b[0;31mFileNotFoundError\u001b[0m: [Errno 2] No such file or directory: 'c:/Users/Hueck/OneDrive/Dokumente/GitHub/gerit_matching'"
          ]
        }
      ],
      "source": [
        "# Aktuelles Arbeitsverzeichnis ermitteln\n",
        "import os\n",
        "os.getcwd()\n",
        "os.chdir(\"c:/Users/Hueck/OneDrive/Dokumente/GitHub/gerit_matching\")"
      ]
    },
    {
      "cell_type": "markdown",
      "metadata": {
        "id": "lQbWhxtqh_-F"
      },
      "source": [
        "Lade Daten"
      ]
    },
    {
      "cell_type": "code",
      "execution_count": null,
      "metadata": {
        "id": "7w42l_EGh_-F"
      },
      "outputs": [],
      "source": [
        "import pandas as pd\n",
        "\n",
        "db_hhu = pd.read_csv(\"data\\hhu_db_raw.csv\")\n",
        "#db_hhu = db_hhu.sample(n=200, random_state=42)  # random_state für Reproduzierbarkeit\n",
        "hhu_gerit = pd.read_excel(\"data/hhu_gerit.xlsx\")"
      ]
    },
    {
      "cell_type": "markdown",
      "metadata": {
        "id": "MlVHC7Xvh_-F"
      },
      "source": [
        "unique values erzeugen"
      ]
    },
    {
      "cell_type": "code",
      "execution_count": null,
      "metadata": {
        "id": "DScYA8IAh_-F"
      },
      "outputs": [],
      "source": []
    },
    {
      "cell_type": "code",
      "execution_count": null,
      "metadata": {
        "id": "JCLTFA5ah_-G"
      },
      "outputs": [],
      "source": [
        "db_hhu.columns\n",
        "# Typ der Spalte anzeigen\n",
        "print(db_hhu[\"organisation_mehrere\"].dtype)\n",
        "\n",
        "# Einzigartige Werte der Spalte anzeigen\n",
        "print(db_hhu[\"organisation_mehrere\"].unique())\n",
        "\n"
      ]
    },
    {
      "cell_type": "code",
      "execution_count": null,
      "metadata": {
        "id": "civwAsyPh_-G",
        "outputId": "ce2eb258-1680-4ccf-9b8e-5dabfbae3399"
      },
      "outputs": [
        {
          "name": "stdout",
          "output_type": "stream",
          "text": [
            "Anzahl einzigartiger Werte: 248\n",
            "{'Molekulare Enzymtechnologie', 'Institut für Cytopathologie', 'Dekanat Medizinische Fakultät', 'Zell- und Interaktionsbiologie CEPLAS', 'Biochemie II: Biotransformation und Biokatalyse', 'Frauenklinik', 'Klinik und Poliklinik für Psychiatrie und Psychotherapie der Heinrich-Heine-Universität Düsseldorf - LVR-Klinikum Düsseldorf', 'Institut für Laser- und Plasmaphysik', 'Klinik für Kardiovaskuläre Chirurgie', 'Arbeitsgruppe Hochauflösende UV-Laserspektroskopie', 'Abteilung I Mittelalterliche Geschichte', 'Politikwissenschaft III', 'European Studies', 'Philosophische Fakultät allgemein', 'Pflanzliche Zellbiologie und Biotechnologie', 'Abteilung für Politikwissenschaft', 'Klinik für Gastroenterologie, Hepatologie und Infektiologie', 'Physikalische Chemie u. Elektrochemie II', 'Institut für Theoretische Chemie und Computerchemie', 'Philosophische Fakultät', 'Lehrstuhl für Volkswirtschaftslehre, insbes. Monetäre Ökonomik', 'Biochemie der Pflanzen', 'Institut für Rechtsmedizin', 'Poliklinik für Zahnärztliche Chirurgie und Aufnahme', 'Institut für Allgemeinmedizin', 'Institut für Biochemie der Pflanzen', 'Wissenschaftliche Einrichtung Physik', 'Gleichstellung', 'Abt. II: Neuere Dt. Literatur - Lehrstuhl Prof. Dörr', 'Institut für Experimentalphysik - Bereich Prof. Görlitz', 'Poliklinik für Zahnerhaltung, Parodontologie und Endodontologie', 'CEPLAS', 'Klinik für Endokrinologie und Diabetologie', 'Department Biologie', 'Nuklearmedizinische Klinik', 'Lehrstuhl Theoretische Physik IV', 'DICE (Duesseldorf Institute for Competition Economics)', 'Abteilung III Alte Geschichte', 'Institut für Mikrobiologie', 'Fakultäten', 'Medizinische Fakultät', 'Abteilung II Neuere Geschichte', 'Institut für Pathologie', 'Abt. I: Germanistische Sprachwissenschaft', 'Institut für Anatomie II', 'Politikwissenschaft II', 'Institut für Bioorganische Chemie', 'Gräzistik', 'Abteilung VIII Geschichte der Frühen Neuzeit', 'Diagnostische und Interventionelle Radiologie', 'Klinik für Mund-, Kiefer- und Plastische Gesichtschirurgie', 'Universitäts- und Landesbibliothek', 'Populationsgenetik', 'Zentrum für Medizinische Mikrobiologie, Krankenhaushygiene und Virologie', 'Funktionelle Zellmorphologie', 'Institut für medizinische Biometrie und Bioinformatik', 'Quantitative Genetik und Genomik der Pflanzen CEPLAS', 'Institut für Medizinische Soziologie', 'Poliklinik für Zahnärztliche Prothetik', 'Hochschulverwaltung', 'Stoffwechselphysiologie', 'Zentrum für Kinder- und Jugendmedizin - Kinderklinik', 'Entwicklungs- und Molekularbiologie der Tiere', 'Institut für Bio- und Geowissenschaften, IBG-2: Pflanzenwissenschaften', 'Anglistik VI - Comparative Literature', 'Sprachenzentrum', 'Anorganische Chemie u. Strukturchemie II', 'Zentrum für Innere Medizin und Neurologie', 'Neurobiologie', 'KUBUS (Praxis- und Berufsorientierung)', 'Institut für Sozialwissenschaften', 'Klinik für Kardiologie, Pneumologie und Angiologie', 'Lehrstuhl für Betriebswirtschaftslehre, insbes. Finanzdienstleistungen', 'Prorektorat für Hochschulmanagement und Internationales', 'Dekanatsbüro Phil. Fakultät', 'Studium Universale', 'Abteilung für Soziologie', 'Trainingszentrum für ärztliche Fertigkeiten', 'Institut für Arbeitsmedizin und Sozialmedizin', 'Abteilung V Geschichte und Kulturen Osteuropas', 'Juristische Fakultät', 'Photosyntheseforschung CEPLAS', 'Europäische Expansion', 'Lehrstuhl für Statistics and Econometrics', 'Sinnesökologie', 'Synthetische Biologie', 'SFB 1208 - Biochemie', 'Poliklinik für Kieferorthopädie', 'Lehrstuhl für Betriebswirtschaftslehre, insbes. Unternehmensprüfung und Controlling', 'Mathematische Modellierung biologischer Systeme', 'Botanik', 'Institut für Linguistik', 'Soziologie I', 'Institut für Modernes Japan', 'Soziologie II', 'Molekulare Evolution', 'Lehrstuhl Theoretische Physik I', 'Anglistik V - Anglophone Literaturen/Literaturübersetzen', 'Molekulare Physiologie', 'Institut für Neurobiologie', 'Lehrstuhl für Betriebswirtschaftslehre, insbes. Marketing', 'Klinik für Urologie', 'Institut für Systemische Neurowissenschaften', 'Lehrstuhl Organische Chemie und Makromolekulare Chemie II', 'Betriebswirtschaftlehre', 'Institut für Medien- und Kulturwissenschaft', 'Anglistik IV: Modern English Literature', 'Arbeitsgruppe Organische Photochemie', 'iGRAD - Interdisciplinary Graduate and Research Academy Düsseldorf', 'Hals-, Nasen- und Ohrenklinik', 'Anglistik III: English Language and Linguistics', 'Abteilung für Jüdische Studien', 'D 1.1 Studierendenservice', 'Abt. II: Neuere Dt. Literatur - Lehrstuhl Prof. Oesterhelt', 'Kommunikations- und Medienwissenschaft I', 'Institut für Klinische Diabetologie', 'Physikalische Biologie', 'Zentrum für Operative Medizin I - Chirurgische Klinik und Poliklinik', 'Abt. III: Deutsche Sprache und Literatur des Mittelalters', 'Politikwissenschaft IV', 'Dekanat Wirtschaftswiss. Fakultät', 'Klinik für Nephrologie', 'Wissenschaftliche Einrichtung Informatik', 'Zentrum für Pharmakologie und Toxikologie', 'Institut für Anatomie I', 'Institut für Klassische Philologie', 'Wirtschaftswissenschaftliche Fakultät', 'Institut für Molekulare Medizin I', 'Abteilung VI Neuere Landesgeschichte u. Neueste Geschichte', 'Praktikumsbüro - Abteilung Soziologie', 'nan', 'Institut für Anorganische Chemie und Strukturchemie', 'Biological Data Science', 'Physikalische Chemie u. Elektrochemie I', 'Institut für Medizinische Mikrobiologie und Krankenhaushygiene', 'Volkswirtschaftslehre', 'Klinisches Institut für Psychosomatische Medizin und Psychotherapie', 'Zentrum für Biochemie und Molekularbiologie', 'Pflanzengenetik CEPLAS', 'Molekulare Ökophysiologie der Pflanzen', 'Lehrstuhl für Betriebswirtschaftslehre, insbes. Arbeit, Personal und Organisation', 'Wissenschaftliche Einrichtung Mathematisches Institut', 'Zentrale Einrichtung für Tierforschung und wiss. Tierschutzaufgaben', 'Wissenschaftliche Einrichtung Pharmazie', 'Quantitative und Theoretische Biologie CEPLAS', 'Deutsch als Fremdsprache', 'Entwicklungsgenetik', 'Abteilung für Jiddische Kultur, Sprache und Literatur', 'Studiendekanat Medizinische Fakultät', 'Abteilung für Computerlinguistik', 'Lehrstuhl für Organische Chemie I', 'Anglistik I: Medieval Literatures and Historical Linguistics', 'Synthetische Mikrobiologie CEPLAS', 'philGRAD', 'Lehrstuhl für Betriebswirtschaftslehre, insbes. Sustainability Management', 'IKM-Services', 'Biochemische Pflanzenphysiologie', 'Lehrstuhl für Kolloide und Nanooptik', 'Institut für Pharmazeutische Biologie', 'Institut für Klinische Neurowissenschaften und Medizinische Psychologie', 'Lehrstuhl für Betriebswirtschaftslehre, insbes. Controlling und Accounting', 'Funktionelle Genomforschung der Mikroorganismen', 'Lehrstuhl für Betriebswirtschaftslehre, insbes. Betriebswirtschaftliche Steuerlehre', 'Lehrstuhl für Betriebswirtschaftslehre, insbes. Management', 'Externe Mitarbeiter, Lehrende und Gäste der wirtschaftswissenschaftliche Fakultät', 'Politikwissenschaft I', 'Institut für Romanistik', 'Klinik für Anästhesiologie', 'Kommunikations- und Medienwissenschaft II', 'Mathematisch-Naturwissenschaftliche Fakultät', 'Institut für Physikalische Biologie', 'Anglistik II: American Studies', 'Institut für Bio- und Geowissenschaften, IBG-1, Forschungszentrum Jülich GmbH', 'Soziologie III', 'Wissenschaftliche Einrichtung Chemie', 'Soziologie IV', 'Lehrstuhl für Betriebswirtschaftslehre, insbes. Wirtschaftsprüfung', 'Klinik für Hämatologie, Onkologie und klinische Immunologie', 'Neurologische Klinik', 'Abt. IV: Theorie und Praxis (Schriftlichkeit)', 'Institut für Organische Chemie und Makromolekulare Chemie', 'Institut für Transplantationsdiagnostik und Zelltherapeutika', 'Professur für Volkswirtschaftslehre, insbes. International Economics', 'Kommunikations- und Medienwissenschaft III', 'Institut für Germanistik', 'Evolutionsgenetik', 'Lehrstuhl Festkörperphysik', 'Abt. IV: Theorie und Praxis (Mündlichkeit)', 'Institut für Jüdische Studien', 'Abteilung für Bildungsforschung und Bildungsmanagement', 'Lehrstuhl für Betriebswirtschaftslehre, insbes. Entrepreneurship und Finanzierung', 'Lehrstuhl für Betriebswirtschaftslehre, insbes. Financial Accounting', 'Center for Enterpreneurship (CEDUS)', 'Kommunikations- und Medienwissenschaft IV', 'Institut für Biochemie und Molekularbiologie I', 'Zentralinstitut für Klinische Chemie u. Laboratoriumsdiagnostik', 'Musikwissenschaftliches Institut der Robert-Schumann-Hochschule Düsseldorf', 'Studierendenakademie', 'Institut für Pharmazeutische Technologie', 'Genetik', 'Entwicklungs- und Molekularbiologie der Pflanzen', 'Lehrstuhl Theoretische Physik III', 'Institut für Theoretische Physik', 'Selbständiger Funktionsbereich für Phoniatrie und Pädaudiologie', 'Abteilung für Informationswissenschaft', 'Zellbiologie', 'Institut für Klinische Biochemie und Pathobiochemie', 'Institut für Kunstgeschichte', 'Mikrobiologie', 'Abt. II: Neuere Dt. Literatur - Lehrstuhl Prof. Nebrig', 'Institut für Zoomorphologie, Zellbiologie und Parasitologie', 'Institute und Forschungseinrichtungen', 'Institut für Biochemie', 'Institut für Anglistik und Amerikanistik', 'Institut für Toxikologie', 'Biomolekulare Festkörper-NMR-Spektroskopie', 'Institut für Physikalische Chemie und Elektrochemie', 'Abteilung für Lasermassenspektrometrie', 'Institut für Pharmazeutische und Medizinische Chemie', 'Zentrum für Zahn-, Mund- und Kieferheilkunde - Westdeutsche Kieferklinik', 'Career Service', 'Anorganische Chemie u. Strukturchemie I', 'Zoologie/Organismische Interaktionen', 'Neurochirugische Klinik', 'Klinische Pharmazie und Pharmakotherapie', 'Institut für Experimentelle Psychologie', 'C. & O. Vogt-Institut für Hirnforschung', 'Institut für Philosophie', 'Institut für Herz- und Kreislaufphysiologie', 'HeiCAD Heine Center of Artificial Intelligence and Data Science', 'Institut für Genetik', 'Zentrum für Medizinische Psychologie, Soziologie, Statistik und Allgemeinmedizin', 'Augenklinik', 'Institut für Geschichtswissenschaften', 'Institut für Geschichte, Theorie und Ethik der Medizin', 'Institut für Biochemie und Molekularbiologie II', 'Chemische Biologie der Proteinaggregation', 'Mikrobielle Zellbiologie', 'Lehrstuhl Theoretische Physik II', 'Abteilung für Allgemeine Sprachwissenschaft', 'Abteilung für Kommunikations- und Medienwissenschaft', 'Physikalische Grundpraktika', 'Institut für Pharmakologie und Klinische Pharmakologie', 'Abt. I: Germ. Sprachwissenschaft - Professur Prof. Kasper', 'Klinik für Allgemein- , Viszeral- und Kinderchirurgie', 'Zentrum für Physiologie', 'Institut für Neuropathologie', 'Leibniz-Institut für Umweltmedizinische Forschung an der Heinrich-Heine-Universität Düsseldorf gGmbH'}\n"
          ]
        }
      ],
      "source": [
        "import numpy as np\n",
        "\n",
        "# Sicherstellen, dass die Spalte als String behandelt wird\n",
        "db_hhu[\"organisation_mehrere\"] = db_hhu[\"organisation_mehrere\"].astype(str)\n",
        "\n",
        "# Alle Werte splitten, Leerzeichen bereinigen, \"NA\" entfernen und einzigartige Werte extrahieren\n",
        "unique_values = set()\n",
        "db_hhu[\"organisation_mehrere\"].dropna().apply(lambda x: unique_values.update(\n",
        "    [val.strip() for val in x.split(\";\") if val.strip() and val.strip().upper() != \"NA\"]\n",
        "))\n",
        "\n",
        "# Ergebnis ausgeben\n",
        "print(f\"Anzahl einzigartiger Werte: {len(unique_values)}\")\n",
        "print(unique_values)"
      ]
    },
    {
      "cell_type": "markdown",
      "metadata": {
        "id": "DiYy15bFh_-G"
      },
      "source": [
        "### LLM laden\n",
        "\n"
      ]
    },
    {
      "cell_type": "code",
      "execution_count": null,
      "metadata": {
        "id": "4lybg0pMh_-G"
      },
      "outputs": [],
      "source": [
        "from dotenv import load_dotenv\n",
        "\n",
        "# Lade Umgebungsvariablen aus der .env Datei\n",
        "load_dotenv()\n",
        "\n",
        "from langchain_openai import ChatOpenAI\n",
        "llm = ChatOpenAI(model=\"gpt-4o-mini\")"
      ]
    },
    {
      "cell_type": "code",
      "execution_count": null,
      "metadata": {
        "id": "z95eeAPqh_-G"
      },
      "outputs": [],
      "source": [
        "import openai\n",
        "import pandas as pd\n",
        "from typing import List\n",
        "from langchain_openai import OpenAIEmbeddings\n",
        "from langchain_core.vectorstores import InMemoryVectorStore\n",
        "from langchain_core.documents import Document\n",
        "from langchain_core.runnables import chain\n",
        "from langchain.agents.agent_toolkits import create_retriever_tool\n",
        "\n",
        "# Funktion zur Erstellung von Embeddings mit dem neuen Modell\n",
        "embeddings = OpenAIEmbeddings(model=\"text-embedding-3-large\")\n",
        "\n",
        "# Erstelle InMemoryVectorStore für GERIT-Organisationen\n",
        "vector_store = InMemoryVectorStore(embeddings)\n",
        "\n",
        "# Alle Organisationen aus GERIT zu den Vektoren hinzufügen\n",
        "docs = [Document(page_content=einrichtung) for einrichtung in hhu_gerit[\"Einrichtung\"].tolist()]\n",
        "vector_store.add_documents(docs)\n",
        "\n",
        "# Definiere den Retriever als Chain mit Scores\n",
        "@chain\n",
        "def retriever(query: str) -> List[Document]:\n",
        "    results = vector_store.similarity_search_with_score(query, k=5)\n",
        "    docs, scores = zip(*results) if results else ([], [])\n",
        "\n",
        "    for doc, score in zip(docs, scores):\n",
        "        doc.metadata[\"score\"] = score  # Füge den Score als Metadaten hinzu\n",
        "\n",
        "    return list(docs)\n",
        "\n",
        "# Beschreibung für den Retriever\n",
        "description = (\n",
        "    \"Sucht nach gültigen Eigennamen basierend auf einer ungefähren Eingabe und gibt die Ähnlichkeitsscores zurück. \"\n",
        "    \"Falls keine passende Entsprechung gefunden wird, wird 'NA' zurückgegeben.\"\n",
        ")\n",
        "\n",
        "# Retriever-Tool erstellen\n",
        "retriever_tool = create_retriever_tool(\n",
        "    retriever,\n",
        "    name=\"search_proper_nouns_with_score\",\n",
        "    description=description,\n",
        ")\n"
      ]
    },
    {
      "cell_type": "code",
      "execution_count": null,
      "metadata": {
        "id": "9tM62Qxhh_-H",
        "outputId": "1499ecb1-f40a-4de2-cebb-55f6ab37dfa8"
      },
      "outputs": [
        {
          "name": "stdout",
          "output_type": "stream",
          "text": [
            "Text: Fach Chemie, Score: 0.751009693806074\n",
            "Text: Fach Physik, Score: 0.5849177282011132\n",
            "Text: Fach Pharmazie, Score: 0.5565538344507959\n",
            "Text: Institut für Physikalische Chemie, Score: 0.5558111486761833\n",
            "Text: Lehrstuhl für Organische Chemie, Score: 0.5419921262512815\n"
          ]
        }
      ],
      "source": [
        "query = \"Chemie\"\n",
        "results = retriever.invoke(query)\n",
        "\n",
        "# Ergebnisse anzeigen\n",
        "for doc in results:\n",
        "    print(f\"Text: {doc.page_content}, Score: {doc.metadata['score']}\")\n"
      ]
    },
    {
      "cell_type": "code",
      "execution_count": null,
      "metadata": {
        "id": "TvUN8-L4h_-H"
      },
      "outputs": [],
      "source": [
        "import pandas as pd\n",
        "\n",
        "def match_unique_organisations(org_series, mapping_dict, retriever):\n",
        "    \"\"\"\n",
        "    Funktion, die nur einzigartige Werte der Organisationen verarbeitet und eine detaillierte Matching-Tabelle erstellt.\n",
        "\n",
        "    :param org_series: Pandas Series mit den ursprünglichen Organisationen\n",
        "    :param mapping_dict: Dictionary mit bekannten exakten Zuordnungen\n",
        "    :param retriever: Retriever zur unscharfen Suche\n",
        "    :return:\n",
        "        - recode_dict: Dictionary mit den rekodierten Werten (Originalwert → gematchter Wert)\n",
        "        - matching_df: DataFrame mit Matching-Details (ursprünglicher Wert, gematchter Wert, Matching-Art, Score)\n",
        "    \"\"\"\n",
        "    print(f\"Anzahl einzigartiger Organisationen in den Eingabedaten: {len(org_series)}\")\n",
        "\n",
        "    recode_dict = {}\n",
        "    matching_data = []  # Liste für die Matching-Ergebnisse\n",
        "\n",
        "    for org in org_series:\n",
        "        orgs = [o.strip() for o in org.split(';')]  # Aufteilen bei \";\", Leerzeichen entfernen\n",
        "        matched_orgs = []\n",
        "        match_details = []  # Speichert Match-Typ und Score für jede Organisation in einer Zeile\n",
        "\n",
        "        for o in orgs:\n",
        "            match_type = \"Keine Übereinstimmung\"\n",
        "            score = None\n",
        "            matched_value = None\n",
        "\n",
        "            # 1. Prüfen, ob eine exakte Übereinstimmung existiert\n",
        "            if o in mapping_dict:\n",
        "                matched_value = mapping_dict[o]\n",
        "                match_type = \"Exakt\"\n",
        "                score = 1.0  # Exakte Matches haben Score 1.0\n",
        "                print(f\"Exakte Übereinstimmung gefunden: '{o}' → '{matched_value}'\")\n",
        "            else:\n",
        "                # 2. Falls keine exakte Übereinstimmung, unscharfe Suche über den Retriever\n",
        "                results = retriever.invoke(o)  # invoke nutzen, da retriever eine Chain ist\n",
        "\n",
        "                if results and results[0].metadata.get(\"score\", 0) >= 0.5:\n",
        "                    matched_value = results[0].page_content\n",
        "                    score = results[0].metadata[\"score\"]\n",
        "                    match_type = \"Fuzzy\"\n",
        "                    print(f\"Fuzzy Match gefunden: '{o}' → '{matched_value}' (Score: {score:.2f})\")\n",
        "                else:\n",
        "                    print(f\"Kein passender Match für '{o}' gefunden.\")\n",
        "\n",
        "            # Speichern des Matches\n",
        "            matched_orgs.append(matched_value if matched_value else o)  # Falls kein Match, Original behalten\n",
        "            match_details.append({\n",
        "                \"Ursprünglicher Wert\": o,\n",
        "                \"Gematchter GERIT-Wert\": matched_value,\n",
        "                \"Matching-Art\": match_type,\n",
        "                \"Score\": score\n",
        "            })\n",
        "\n",
        "        # Rekodierungs-Dictionary speichern\n",
        "        recode_dict[org] = \"; \".join([m for m in matched_orgs if m]) if matched_orgs else None\n",
        "\n",
        "        # Matching-Details zur Liste hinzufügen\n",
        "        matching_data.extend(match_details)\n",
        "\n",
        "    # DataFrame aus den Matching-Daten erstellen\n",
        "    matching_df = pd.DataFrame(matching_data)\n",
        "\n",
        "    return recode_dict, matching_df\n"
      ]
    },
    {
      "cell_type": "code",
      "execution_count": null,
      "metadata": {
        "id": "bhaoKuarh_-H",
        "outputId": "142e5b15-3d61-40fb-bd0f-b0386d6da541"
      },
      "outputs": [
        {
          "name": "stdout",
          "output_type": "stream",
          "text": [
            "Anzahl einzigartiger Organisationen in den Eingabedaten: 248\n",
            "Fuzzy Match gefunden: 'Molekulare Enzymtechnologie' → 'Institut für Molekulare Enzymtechnologie (IMET)' (Score: 0.71)\n",
            "Fuzzy Match gefunden: 'Institut für Cytopathologie' → 'Institut für Pathologie' (Score: 0.82)\n",
            "Fuzzy Match gefunden: 'Dekanat Medizinische Fakultät' → 'Institute der Medizinischen Fakultät am Universitätsklinikum Düsseldorf' (Score: 0.64)\n",
            "Fuzzy Match gefunden: 'Zell- und Interaktionsbiologie CEPLAS' → 'Institut für Zell- und Interaktionsbiologie' (Score: 0.73)\n",
            "Fuzzy Match gefunden: 'Biochemie II: Biotransformation und Biokatalyse' → 'Lehrstuhl für Biochemie II' (Score: 0.65)\n",
            "Fuzzy Match gefunden: 'Frauenklinik' → 'Klinik für Frauenheilkunde und Geburtshilfe' (Score: 0.81)\n",
            "Fuzzy Match gefunden: 'Klinik und Poliklinik für Psychiatrie und Psychotherapie der Heinrich-Heine-Universität Düsseldorf - LVR-Klinikum Düsseldorf' → 'Klinik und Poliklinik für Psychiatrie und Psychotherapie - Rheinische Kliniken Düsseldorf' (Score: 0.93)\n",
            "Exakte Übereinstimmung gefunden: 'Institut für Laser- und Plasmaphysik' → 'Institut für Laser- und Plasmaphysik'\n",
            "Fuzzy Match gefunden: 'Klinik für Kardiovaskuläre Chirurgie' → 'Klinik für Herzchirurgie' (Score: 0.89)\n",
            "Exakte Übereinstimmung gefunden: 'Arbeitsgruppe Hochauflösende UV-Laserspektroskopie' → 'Arbeitsgruppe Hochauflösende UV-Laserspektroskopie'\n",
            "Fuzzy Match gefunden: 'Abteilung I Mittelalterliche Geschichte' → 'Lehrstuhl für Mittelalterliche Geschichte' (Score: 0.78)\n",
            "Fuzzy Match gefunden: 'Politikwissenschaft III' → 'Lehrstuhl Politikwissenschaft III' (Score: 0.85)\n",
            "Fuzzy Match gefunden: 'European Studies' → 'Lehrstuhl für Geschichte und Kulturen Osteuropas' (Score: 0.51)\n",
            "Fuzzy Match gefunden: 'Philosophische Fakultät allgemein' → 'Philosophische Fakultät' (Score: 0.87)\n",
            "Fuzzy Match gefunden: 'Pflanzliche Zellbiologie und Biotechnologie' → 'Institut für Pflanzliche Zellbiologie und Biotechnologie' (Score: 0.82)\n",
            "Fuzzy Match gefunden: 'Abteilung für Politikwissenschaft' → 'Abteilung Politikwissenschaft' (Score: 0.96)\n",
            "Exakte Übereinstimmung gefunden: 'Klinik für Gastroenterologie, Hepatologie und Infektiologie' → 'Klinik für Gastroenterologie, Hepatologie und Infektiologie'\n",
            "Fuzzy Match gefunden: 'Physikalische Chemie u. Elektrochemie II' → 'Institut für Physikalische Chemie' (Score: 0.68)\n",
            "Fuzzy Match gefunden: 'Institut für Theoretische Chemie und Computerchemie' → 'Institut für Theoretische Chemie' (Score: 0.91)\n",
            "Exakte Übereinstimmung gefunden: 'Philosophische Fakultät' → 'Philosophische Fakultät'\n",
            "Fuzzy Match gefunden: 'Lehrstuhl für Volkswirtschaftslehre, insbes. Monetäre Ökonomik' → 'Lehrstuhl für Volkswirtschaft, insb. Monetäre Ökonomik' (Score: 0.98)\n",
            "Fuzzy Match gefunden: 'Biochemie der Pflanzen' → 'Institut für Biochemie der Pflanzen' (Score: 0.76)\n",
            "Exakte Übereinstimmung gefunden: 'Institut für Rechtsmedizin' → 'Institut für Rechtsmedizin'\n",
            "Exakte Übereinstimmung gefunden: 'Poliklinik für Zahnärztliche Chirurgie und Aufnahme' → 'Poliklinik für Zahnärztliche Chirurgie und Aufnahme'\n",
            "Exakte Übereinstimmung gefunden: 'Institut für Allgemeinmedizin' → 'Institut für Allgemeinmedizin'\n",
            "Exakte Übereinstimmung gefunden: 'Institut für Biochemie der Pflanzen' → 'Institut für Biochemie der Pflanzen'\n",
            "Fuzzy Match gefunden: 'Wissenschaftliche Einrichtung Physik' → 'Institut für Experimentalphysik' (Score: 0.73)\n",
            "Kein passender Match für 'Gleichstellung' gefunden.\n",
            "Fuzzy Match gefunden: 'Abt. II: Neuere Dt. Literatur - Lehrstuhl Prof. Dörr' → 'Abteilung II: Lehrstuhl Neuere Deutsche Literaturwissenschaft' (Score: 0.78)\n",
            "Fuzzy Match gefunden: 'Institut für Experimentalphysik - Bereich Prof. Görlitz' → 'Institut für Experimentalphysik' (Score: 0.80)\n",
            "Fuzzy Match gefunden: 'Poliklinik für Zahnerhaltung, Parodontologie und Endodontologie' → 'Poliklinik für Zahnerhaltung und Endodontologie' (Score: 0.96)\n",
            "Fuzzy Match gefunden: 'CEPLAS' → 'CEPLAS Cluster of Excellence on Plant Sciences' (Score: 0.67)\n",
            "Exakte Übereinstimmung gefunden: 'Klinik für Endokrinologie und Diabetologie' → 'Klinik für Endokrinologie und Diabetologie'\n",
            "Exakte Übereinstimmung gefunden: 'Department Biologie' → 'Department Biologie'\n",
            "Exakte Übereinstimmung gefunden: 'Nuklearmedizinische Klinik' → 'Nuklearmedizinische Klinik'\n",
            "Fuzzy Match gefunden: 'Lehrstuhl Theoretische Physik IV' → 'Lehrstuhl IV: Theoretische Festkörperphysik' (Score: 0.87)\n",
            "Fuzzy Match gefunden: 'DICE (Duesseldorf Institute for Competition Economics)' → 'Düsseldorfer Institut für Wettbewerbsökonomie' (Score: 0.77)\n",
            "Fuzzy Match gefunden: 'Abteilung III Alte Geschichte' → 'Lehrstuhl für Alte Geschichte' (Score: 0.76)\n",
            "Exakte Übereinstimmung gefunden: 'Institut für Mikrobiologie' → 'Institut für Mikrobiologie'\n",
            "Fuzzy Match gefunden: 'Fakultäten' → 'Philosophische Fakultät' (Score: 0.76)\n",
            "Fuzzy Match gefunden: 'Medizinische Fakultät' → 'Medizinische Fakultät/Universitätsklinikum Düsseldorf' (Score: 0.73)\n",
            "Fuzzy Match gefunden: 'Abteilung II Neuere Geschichte' → 'Lehrstuhl für Neuere Geschichte' (Score: 0.75)\n",
            "Exakte Übereinstimmung gefunden: 'Institut für Pathologie' → 'Institut für Pathologie'\n",
            "Fuzzy Match gefunden: 'Abt. I: Germanistische Sprachwissenschaft' → 'Abteilung I: Lehrstuhl für Germanistische Sprachwissenschaft' (Score: 0.75)\n",
            "Exakte Übereinstimmung gefunden: 'Institut für Anatomie II' → 'Institut für Anatomie II'\n",
            "Fuzzy Match gefunden: 'Politikwissenschaft II' → 'Lehrstuhl Politikwissenschaft II' (Score: 0.83)\n",
            "Fuzzy Match gefunden: 'Institut für Bioorganische Chemie' → 'Institut für Bioorganische Chemie (IBOC)' (Score: 0.90)\n",
            "Kein passender Match für 'Gräzistik' gefunden.\n",
            "Fuzzy Match gefunden: 'Abteilung VIII Geschichte der Frühen Neuzeit' → 'Lehrstuhl Geschichte der Frühen Neuzeit' (Score: 0.76)\n",
            "Fuzzy Match gefunden: 'Diagnostische und Interventionelle Radiologie' → 'Institut für Diagnostische und Interventionelle Radiologie' (Score: 0.85)\n",
            "Exakte Übereinstimmung gefunden: 'Klinik für Mund-, Kiefer- und Plastische Gesichtschirurgie' → 'Klinik für Mund-, Kiefer- und Plastische Gesichtschirurgie'\n",
            "Exakte Übereinstimmung gefunden: 'Universitäts- und Landesbibliothek' → 'Universitäts- und Landesbibliothek'\n",
            "Fuzzy Match gefunden: 'Populationsgenetik' → 'Institut Populationsgenetik' (Score: 0.67)\n",
            "Fuzzy Match gefunden: 'Zentrum für Medizinische Mikrobiologie, Krankenhaushygiene und Virologie' → 'Institut für Medizinische Mikrobiologie und Krankenhaushygiene' (Score: 0.77)\n",
            "Fuzzy Match gefunden: 'Funktionelle Zellmorphologie' → 'Institut für Funktionelle Zellmorphologie' (Score: 0.74)\n",
            "Exakte Übereinstimmung gefunden: 'Institut für medizinische Biometrie und Bioinformatik' → 'Institut für medizinische Biometrie und Bioinformatik'\n",
            "Fuzzy Match gefunden: 'Quantitative Genetik und Genomik der Pflanzen CEPLAS' → 'Institut für Quantitative Genetik und Genomik der Pflanzen' (Score: 0.77)\n",
            "Exakte Übereinstimmung gefunden: 'Institut für Medizinische Soziologie' → 'Institut für Medizinische Soziologie'\n",
            "Exakte Übereinstimmung gefunden: 'Poliklinik für Zahnärztliche Prothetik' → 'Poliklinik für Zahnärztliche Prothetik'\n",
            "Fuzzy Match gefunden: 'Hochschulverwaltung' → 'Lehrstuhl für ÖR und Verwaltungslehre' (Score: 0.56)\n",
            "Fuzzy Match gefunden: 'Stoffwechselphysiologie' → 'Institut für Stoffwechselphysiologie' (Score: 0.75)\n",
            "Fuzzy Match gefunden: 'Zentrum für Kinder- und Jugendmedizin - Kinderklinik' → 'Zentrum für Kinder- und Jugendmedizin' (Score: 0.90)\n",
            "Fuzzy Match gefunden: 'Entwicklungs- und Molekularbiologie der Tiere' → 'Institut für Entwicklungs- und Molekularbiologie der Tiere' (Score: 0.82)\n",
            "Fuzzy Match gefunden: 'Institut für Bio- und Geowissenschaften, IBG-2: Pflanzenwissenschaften' → 'Institut für Entwicklungs- und Molekularbiologie der Pflanzen' (Score: 0.77)\n",
            "Fuzzy Match gefunden: 'Anglistik VI - Comparative Literature' → 'Anglistik VI: Comparative Literatur' (Score: 0.92)\n",
            "Fuzzy Match gefunden: 'Sprachenzentrum' → 'Institut für Linguistik' (Score: 0.64)\n",
            "Fuzzy Match gefunden: 'Anorganische Chemie u. Strukturchemie II' → 'Institut für Anorganische Chemie und Strukturchemie' (Score: 0.76)\n",
            "Fuzzy Match gefunden: 'Zentrum für Innere Medizin und Neurologie' → 'Klinik für Neurologie' (Score: 0.75)\n",
            "Fuzzy Match gefunden: 'Neurobiologie' → 'Angewandte Neurobiologie' (Score: 0.78)\n",
            "Kein passender Match für 'KUBUS (Praxis- und Berufsorientierung)' gefunden.\n",
            "Exakte Übereinstimmung gefunden: 'Institut für Sozialwissenschaften' → 'Institut für Sozialwissenschaften'\n",
            "Exakte Übereinstimmung gefunden: 'Klinik für Kardiologie, Pneumologie und Angiologie' → 'Klinik für Kardiologie, Pneumologie und Angiologie'\n",
            "Fuzzy Match gefunden: 'Lehrstuhl für Betriebswirtschaftslehre, insbes. Finanzdienstleistungen' → 'Lehrstuhl für BWL, insbesondere Finanzdienstleistungen' (Score: 0.96)\n",
            "Fuzzy Match gefunden: 'Prorektorat für Hochschulmanagement und Internationales' → 'Abteilung für Bildungsforschung und Bildungsmanagement' (Score: 0.57)\n",
            "Fuzzy Match gefunden: 'Dekanatsbüro Phil. Fakultät' → 'Philosophische Fakultät' (Score: 0.69)\n",
            "Kein passender Match für 'Studium Universale' gefunden.\n",
            "Fuzzy Match gefunden: 'Abteilung für Soziologie' → 'Abteilung Soziologie' (Score: 0.97)\n",
            "Fuzzy Match gefunden: 'Trainingszentrum für ärztliche Fertigkeiten' → 'Zentren des Universitätsklinikums' (Score: 0.55)\n",
            "Fuzzy Match gefunden: 'Institut für Arbeitsmedizin und Sozialmedizin' → 'Institut für Arbeits-, Sozial- und Umweltmedizin' (Score: 0.88)\n",
            "Fuzzy Match gefunden: 'Abteilung V Geschichte und Kulturen Osteuropas' → 'Lehrstuhl für Geschichte und Kulturen Osteuropas' (Score: 0.77)\n",
            "Exakte Übereinstimmung gefunden: 'Juristische Fakultät' → 'Juristische Fakultät'\n",
            "Fuzzy Match gefunden: 'Photosyntheseforschung CEPLAS' → 'CEPLAS Cluster of Excellence on Plant Sciences' (Score: 0.73)\n",
            "Kein passender Match für 'Europäische Expansion' gefunden.\n",
            "Fuzzy Match gefunden: 'Lehrstuhl für Statistics and Econometrics' → 'Lehrstuhl für Mathematische Statistik und Wahrscheinlichkeitstheorie' (Score: 0.79)\n",
            "Fuzzy Match gefunden: 'Sinnesökologie' → 'Institut für Sinnesökologie' (Score: 0.50)\n",
            "Fuzzy Match gefunden: 'Synthetische Biologie' → 'Institut für Synthetische Biologie' (Score: 0.70)\n",
            "Fuzzy Match gefunden: 'SFB 1208 - Biochemie' → 'Institut für Biochemie' (Score: 0.71)\n",
            "Exakte Übereinstimmung gefunden: 'Poliklinik für Kieferorthopädie' → 'Poliklinik für Kieferorthopädie'\n",
            "Fuzzy Match gefunden: 'Lehrstuhl für Betriebswirtschaftslehre, insbes. Unternehmensprüfung und Controlling' → 'Lehrstuhl für BWL, insb. Accounting' (Score: 0.81)\n",
            "Fuzzy Match gefunden: 'Mathematische Modellierung biologischer Systeme' → 'Institut Mathematische Modellierung biologischer Systeme' (Score: 0.78)\n",
            "Fuzzy Match gefunden: 'Botanik' → 'Botanischer Garten' (Score: 0.67)\n",
            "Exakte Übereinstimmung gefunden: 'Institut für Linguistik' → 'Institut für Linguistik'\n",
            "Fuzzy Match gefunden: 'Soziologie I' → 'Lehrstuhl Soziologie I' (Score: 0.81)\n",
            "Exakte Übereinstimmung gefunden: 'Institut für Modernes Japan' → 'Institut für Modernes Japan'\n",
            "Fuzzy Match gefunden: 'Soziologie II' → 'Lehrstuhl Soziologie II' (Score: 0.81)\n",
            "Fuzzy Match gefunden: 'Molekulare Evolution' → 'Institut für Molekulare Evolution' (Score: 0.73)\n",
            "Fuzzy Match gefunden: 'Lehrstuhl Theoretische Physik I' → 'Lehrstuhl IV: Theoretische Festkörperphysik' (Score: 0.80)\n",
            "Fuzzy Match gefunden: 'Anglistik V - Anglophone Literaturen/Literaturübersetzen' → 'Anglistik V: Section Anglophone Literatures / Literary Translation' (Score: 0.89)\n",
            "Fuzzy Match gefunden: 'Molekulare Physiologie' → 'Institut für molekulare Physiologie' (Score: 0.78)\n",
            "Exakte Übereinstimmung gefunden: 'Institut für Neurobiologie' → 'Institut für Neurobiologie'\n",
            "Fuzzy Match gefunden: 'Lehrstuhl für Betriebswirtschaftslehre, insbes. Marketing' → 'Lehrstuhl für BWL, insbesondere Marketing' (Score: 0.95)\n",
            "Fuzzy Match gefunden: 'Klinik für Urologie' → 'Urologische Klinik' (Score: 0.89)\n",
            "Exakte Übereinstimmung gefunden: 'Institut für Systemische Neurowissenschaften' → 'Institut für Systemische Neurowissenschaften'\n",
            "Fuzzy Match gefunden: 'Lehrstuhl Organische Chemie und Makromolekulare Chemie II' → 'Lehrstuhl für Makromolekulare Chemie' (Score: 0.89)\n",
            "Fuzzy Match gefunden: 'Betriebswirtschaftlehre' → 'Wirtschaftswissenschaftliche Fakultät' (Score: 0.60)\n",
            "Exakte Übereinstimmung gefunden: 'Institut für Medien- und Kulturwissenschaft' → 'Institut für Medien- und Kulturwissenschaft'\n",
            "Exakte Übereinstimmung gefunden: 'Anglistik IV: Modern English Literature' → 'Anglistik IV: Modern English Literature'\n",
            "Exakte Übereinstimmung gefunden: 'Arbeitsgruppe Organische Photochemie' → 'Arbeitsgruppe Organische Photochemie'\n",
            "Fuzzy Match gefunden: 'iGRAD - Interdisciplinary Graduate and Research Academy Düsseldorf' → 'Institute der Medizinischen Fakultät am Universitätsklinikum Düsseldorf' (Score: 0.56)\n",
            "Fuzzy Match gefunden: 'Hals-, Nasen- und Ohrenklinik' → 'Klinik für Hals-Nasen-Ohrenheilkunde' (Score: 0.86)\n",
            "Exakte Übereinstimmung gefunden: 'Anglistik III: English Language and Linguistics' → 'Anglistik III: English Language and Linguistics'\n",
            "Fuzzy Match gefunden: 'Abteilung für Jüdische Studien' → 'Institut für Jüdische Studien' (Score: 0.87)\n",
            "Fuzzy Match gefunden: 'D 1.1 Studierendenservice' → 'Lehrstuhl Soziologie I' (Score: 0.51)\n",
            "Fuzzy Match gefunden: 'Abt. II: Neuere Dt. Literatur - Lehrstuhl Prof. Oesterhelt' → 'Abteilung II: Lehrstuhl Neuere Deutsche Literaturwissenschaft' (Score: 0.75)\n",
            "Fuzzy Match gefunden: 'Kommunikations- und Medienwissenschaft I' → 'Abteilung Kommunikations- und Medienwissenschaft' (Score: 0.81)\n",
            "Fuzzy Match gefunden: 'Institut für Klinische Diabetologie' → 'Klinik für Endokrinologie und Diabetologie' (Score: 0.77)\n",
            "Fuzzy Match gefunden: 'Physikalische Biologie' → 'Institut für Physikalische Biologie' (Score: 0.80)\n",
            "Fuzzy Match gefunden: 'Zentrum für Operative Medizin I - Chirurgische Klinik und Poliklinik' → 'Klinik für Allgemein-, Viszeral- und Kinderchirurgie' (Score: 0.67)\n",
            "Fuzzy Match gefunden: 'Abt. III: Deutsche Sprache und Literatur des Mittelalters' → 'Abteilung III: Lehrstuhl Germanistische Mediävistik' (Score: 0.71)\n",
            "Fuzzy Match gefunden: 'Politikwissenschaft IV' → 'Lehrstuhl Politikwissenschaft III' (Score: 0.73)\n",
            "Fuzzy Match gefunden: 'Dekanat Wirtschaftswiss. Fakultät' → 'Wirtschaftswissenschaftliche Fakultät' (Score: 0.77)\n",
            "Exakte Übereinstimmung gefunden: 'Klinik für Nephrologie' → 'Klinik für Nephrologie'\n",
            "Fuzzy Match gefunden: 'Wissenschaftliche Einrichtung Informatik' → 'Abteilung für Informationswissenschaft' (Score: 0.67)\n",
            "Fuzzy Match gefunden: 'Zentrum für Pharmakologie und Toxikologie' → 'Institut für Pharmakologie' (Score: 0.78)\n",
            "Exakte Übereinstimmung gefunden: 'Institut für Anatomie I' → 'Institut für Anatomie I'\n",
            "Exakte Übereinstimmung gefunden: 'Institut für Klassische Philologie' → 'Institut für Klassische Philologie'\n",
            "Exakte Übereinstimmung gefunden: 'Wirtschaftswissenschaftliche Fakultät' → 'Wirtschaftswissenschaftliche Fakultät'\n",
            "Exakte Übereinstimmung gefunden: 'Institut für Molekulare Medizin I' → 'Institut für Molekulare Medizin I'\n",
            "Fuzzy Match gefunden: 'Abteilung VI Neuere Landesgeschichte u. Neueste Geschichte' → 'Lehrstuhl für Neuere und Neueste Geschichte' (Score: 0.70)\n",
            "Fuzzy Match gefunden: 'Praktikumsbüro - Abteilung Soziologie' → 'Abteilung Soziologie' (Score: 0.72)\n",
            "Kein passender Match für 'nan' gefunden.\n",
            "Exakte Übereinstimmung gefunden: 'Institut für Anorganische Chemie und Strukturchemie' → 'Institut für Anorganische Chemie und Strukturchemie'\n",
            "Fuzzy Match gefunden: 'Biological Data Science' → 'Institute for Biological Data Science' (Score: 0.78)\n",
            "Fuzzy Match gefunden: 'Physikalische Chemie u. Elektrochemie I' → 'Institut für Physikalische Chemie' (Score: 0.70)\n",
            "Exakte Übereinstimmung gefunden: 'Institut für Medizinische Mikrobiologie und Krankenhaushygiene' → 'Institut für Medizinische Mikrobiologie und Krankenhaushygiene'\n",
            "Fuzzy Match gefunden: 'Volkswirtschaftslehre' → 'Wirtschaftswissenschaftliche Fakultät' (Score: 0.64)\n",
            "Exakte Übereinstimmung gefunden: 'Klinisches Institut für Psychosomatische Medizin und Psychotherapie' → 'Klinisches Institut für Psychosomatische Medizin und Psychotherapie'\n",
            "Fuzzy Match gefunden: 'Zentrum für Biochemie und Molekularbiologie' → 'Institut für Biochemie und Molekularbiologie I' (Score: 0.76)\n",
            "Fuzzy Match gefunden: 'Pflanzengenetik CEPLAS' → 'Institut für Pflanzengenetik' (Score: 0.73)\n",
            "Fuzzy Match gefunden: 'Molekulare Ökophysiologie der Pflanzen' → 'Institut für Molekulare Ökophysiologie der Pflanzen' (Score: 0.84)\n",
            "Fuzzy Match gefunden: 'Lehrstuhl für Betriebswirtschaftslehre, insbes. Arbeit, Personal und Organisation' → 'Lehrstuhl für BWL, insbes. Arbeit, Personal und Organisation' (Score: 0.97)\n",
            "Fuzzy Match gefunden: 'Wissenschaftliche Einrichtung Mathematisches Institut' → 'Mathematisches Institut' (Score: 0.87)\n",
            "Fuzzy Match gefunden: 'Zentrale Einrichtung für Tierforschung und wiss. Tierschutzaufgaben' → 'Tierversuchsanlage' (Score: 0.59)\n",
            "Fuzzy Match gefunden: 'Wissenschaftliche Einrichtung Pharmazie' → 'Institut für Pharmazeutische und Medizinische Chemie' (Score: 0.75)\n",
            "Fuzzy Match gefunden: 'Quantitative und Theoretische Biologie CEPLAS' → 'Institut für Quantitative und Theoretische Biologie' (Score: 0.74)\n",
            "Fuzzy Match gefunden: 'Deutsch als Fremdsprache' → 'Institut für Germanistik' (Score: 0.53)\n",
            "Fuzzy Match gefunden: 'Entwicklungsgenetik' → 'Institut Entwicklungsgenetik' (Score: 0.69)\n",
            "Exakte Übereinstimmung gefunden: 'Abteilung für Jiddische Kultur, Sprache und Literatur' → 'Abteilung für Jiddische Kultur, Sprache und Literatur'\n",
            "Fuzzy Match gefunden: 'Studiendekanat Medizinische Fakultät' → 'Institute der Medizinischen Fakultät am Universitätsklinikum Düsseldorf' (Score: 0.65)\n",
            "Exakte Übereinstimmung gefunden: 'Abteilung für Computerlinguistik' → 'Abteilung für Computerlinguistik'\n",
            "Fuzzy Match gefunden: 'Lehrstuhl für Organische Chemie I' → 'Lehrstuhl für Organische Chemie' (Score: 0.93)\n",
            "Fuzzy Match gefunden: 'Anglistik I: Medieval Literatures and Historical Linguistics' → 'Anglistik I: Medieval English Studies and Historical Linguistics' (Score: 0.97)\n",
            "Fuzzy Match gefunden: 'Synthetische Mikrobiologie CEPLAS' → 'Institut für Synthetische Mikrobiologie' (Score: 0.75)\n",
            "Kein passender Match für 'philGRAD' gefunden.\n",
            "Fuzzy Match gefunden: 'Lehrstuhl für Betriebswirtschaftslehre, insbes. Sustainability Management' → 'Lehrstuhl für BWL, insb. Management' (Score: 0.81)\n",
            "Kein passender Match für 'IKM-Services' gefunden.\n",
            "Fuzzy Match gefunden: 'Biochemische Pflanzenphysiologie' → 'Institut für Biochemische Pflanzenphysiologie' (Score: 0.73)\n",
            "Fuzzy Match gefunden: 'Lehrstuhl für Kolloide und Nanooptik' → 'Lehrstuhl für nanoporöse und nanoskalierte Materialien' (Score: 0.72)\n",
            "Fuzzy Match gefunden: 'Institut für Pharmazeutische Biologie' → 'Institut für Pharmazeutische Biologie und Biotechnologie' (Score: 0.90)\n",
            "Exakte Übereinstimmung gefunden: 'Institut für Klinische Neurowissenschaften und Medizinische Psychologie' → 'Institut für Klinische Neurowissenschaften und Medizinische Psychologie'\n",
            "Fuzzy Match gefunden: 'Lehrstuhl für Betriebswirtschaftslehre, insbes. Controlling und Accounting' → 'Lehrstuhl für BWL, insb. Accounting' (Score: 0.89)\n",
            "Fuzzy Match gefunden: 'Funktionelle Genomforschung der Mikroorganismen' → 'Institut für Funktionelle Genomforschung der Mikroorganismen' (Score: 0.74)\n",
            "Fuzzy Match gefunden: 'Lehrstuhl für Betriebswirtschaftslehre, insbes. Betriebswirtschaftliche Steuerlehre' → 'Lehrstuhl für BWL, insbesondere Betriebswirtschaftliche Steuerlehre' (Score: 0.96)\n",
            "Fuzzy Match gefunden: 'Lehrstuhl für Betriebswirtschaftslehre, insbes. Management' → 'Lehrstuhl für BWL, insb. Management' (Score: 0.95)\n",
            "Fuzzy Match gefunden: 'Externe Mitarbeiter, Lehrende und Gäste der wirtschaftswissenschaftliche Fakultät' → 'Wirtschaftswissenschaftliche Fakultät' (Score: 0.62)\n",
            "Fuzzy Match gefunden: 'Politikwissenschaft I' → 'Lehrstuhl Politikwissenschaft II' (Score: 0.73)\n",
            "Exakte Übereinstimmung gefunden: 'Institut für Romanistik' → 'Institut für Romanistik'\n",
            "Exakte Übereinstimmung gefunden: 'Klinik für Anästhesiologie' → 'Klinik für Anästhesiologie'\n",
            "Fuzzy Match gefunden: 'Kommunikations- und Medienwissenschaft II' → 'Abteilung Kommunikations- und Medienwissenschaft' (Score: 0.79)\n",
            "Exakte Übereinstimmung gefunden: 'Mathematisch-Naturwissenschaftliche Fakultät' → 'Mathematisch-Naturwissenschaftliche Fakultät'\n",
            "Exakte Übereinstimmung gefunden: 'Institut für Physikalische Biologie' → 'Institut für Physikalische Biologie'\n",
            "Fuzzy Match gefunden: 'Anglistik II: American Studies' → 'Anglistik II: Section American Studies' (Score: 0.96)\n",
            "Fuzzy Match gefunden: 'Institut für Bio- und Geowissenschaften, IBG-1, Forschungszentrum Jülich GmbH' → 'Institut für Bioorganische Chemie (IBOC)' (Score: 0.67)\n",
            "Fuzzy Match gefunden: 'Soziologie III' → 'Lehrstuhl Soziologie III' (Score: 0.83)\n",
            "Fuzzy Match gefunden: 'Wissenschaftliche Einrichtung Chemie' → 'Institut für Physikalische Chemie' (Score: 0.72)\n",
            "Fuzzy Match gefunden: 'Soziologie IV' → 'Lehrstuhl Soziologie III' (Score: 0.74)\n",
            "Fuzzy Match gefunden: 'Lehrstuhl für Betriebswirtschaftslehre, insbes. Wirtschaftsprüfung' → 'Lehrstuhl für BWL, insbesondere Betriebswirtschaftliche Steuerlehre' (Score: 0.84)\n",
            "Fuzzy Match gefunden: 'Klinik für Hämatologie, Onkologie und klinische Immunologie' → 'Klinik für Hämatologie, Onkologie und Klinische Immunologie' (Score: 1.00)\n",
            "Fuzzy Match gefunden: 'Neurologische Klinik' → 'Klinik für Neurologie' (Score: 0.84)\n",
            "Fuzzy Match gefunden: 'Abt. IV: Theorie und Praxis (Schriftlichkeit)' → 'Abteilung IV: Lehrstuhl Theorie und Praxis mündlicher und schriftlicher Kommunikation' (Score: 0.65)\n",
            "Exakte Übereinstimmung gefunden: 'Institut für Organische Chemie und Makromolekulare Chemie' → 'Institut für Organische Chemie und Makromolekulare Chemie'\n",
            "Fuzzy Match gefunden: 'Institut für Transplantationsdiagnostik und Zelltherapeutika' → 'Institut für Transplantationsdiagnostik und Zelltherapeutika (ITZ)' (Score: 0.90)\n",
            "Fuzzy Match gefunden: 'Professur für Volkswirtschaftslehre, insbes. International Economics' → 'Lehrstuhl für Volkswirtschaft, insb. Monetäre Ökonomik' (Score: 0.79)\n",
            "Fuzzy Match gefunden: 'Kommunikations- und Medienwissenschaft III' → 'Abteilung Kommunikations- und Medienwissenschaft' (Score: 0.76)\n",
            "Exakte Übereinstimmung gefunden: 'Institut für Germanistik' → 'Institut für Germanistik'\n",
            "Fuzzy Match gefunden: 'Evolutionsgenetik' → 'Institut für Evolutionsgenetik' (Score: 0.63)\n",
            "Fuzzy Match gefunden: 'Lehrstuhl Festkörperphysik' → 'Lehrstuhl für Festkörperphysik' (Score: 0.96)\n",
            "Fuzzy Match gefunden: 'Abt. IV: Theorie und Praxis (Mündlichkeit)' → 'Abteilung IV: Lehrstuhl Theorie und Praxis mündlicher und schriftlicher Kommunikation' (Score: 0.67)\n",
            "Exakte Übereinstimmung gefunden: 'Institut für Jüdische Studien' → 'Institut für Jüdische Studien'\n",
            "Exakte Übereinstimmung gefunden: 'Abteilung für Bildungsforschung und Bildungsmanagement' → 'Abteilung für Bildungsforschung und Bildungsmanagement'\n",
            "Fuzzy Match gefunden: 'Lehrstuhl für Betriebswirtschaftslehre, insbes. Entrepreneurship und Finanzierung' → 'Lehrstuhl für Betriebswirtschaftslehre, insb. Entrepreneurship und Finanzierung' (Score: 0.99)\n",
            "Fuzzy Match gefunden: 'Lehrstuhl für Betriebswirtschaftslehre, insbes. Financial Accounting' → 'Lehrstuhl für BWL, insb. Accounting' (Score: 0.92)\n",
            "Kein passender Match für 'Center for Enterpreneurship (CEDUS)' gefunden.\n",
            "Fuzzy Match gefunden: 'Kommunikations- und Medienwissenschaft IV' → 'Abteilung Kommunikations- und Medienwissenschaft' (Score: 0.78)\n",
            "Exakte Übereinstimmung gefunden: 'Institut für Biochemie und Molekularbiologie I' → 'Institut für Biochemie und Molekularbiologie I'\n",
            "Fuzzy Match gefunden: 'Zentralinstitut für Klinische Chemie u. Laboratoriumsdiagnostik' → 'Institut für Klinische Chemie und Laboratoriumsdiagnostik' (Score: 0.84)\n",
            "Fuzzy Match gefunden: 'Musikwissenschaftliches Institut der Robert-Schumann-Hochschule Düsseldorf' → 'Institute der Medizinischen Fakultät am Universitätsklinikum Düsseldorf' (Score: 0.61)\n",
            "Fuzzy Match gefunden: 'Studierendenakademie' → 'Institut für Sozialwissenschaften' (Score: 0.54)\n",
            "Fuzzy Match gefunden: 'Institut für Pharmazeutische Technologie' → 'Institut für Pharmazeutische Technologie und Biopharmazie' (Score: 0.92)\n",
            "Kein passender Match für 'Genetik' gefunden.\n",
            "Fuzzy Match gefunden: 'Entwicklungs- und Molekularbiologie der Pflanzen' → 'Institut für Entwicklungs- und Molekularbiologie der Pflanzen' (Score: 0.85)\n",
            "Fuzzy Match gefunden: 'Lehrstuhl Theoretische Physik III' → 'Lehrstuhl IV: Theoretische Festkörperphysik' (Score: 0.80)\n",
            "Exakte Übereinstimmung gefunden: 'Institut für Theoretische Physik' → 'Institut für Theoretische Physik'\n",
            "Fuzzy Match gefunden: 'Selbständiger Funktionsbereich für Phoniatrie und Pädaudiologie' → 'Klinik für Phoniatrie und Pädaudiologie' (Score: 0.72)\n",
            "Exakte Übereinstimmung gefunden: 'Abteilung für Informationswissenschaft' → 'Abteilung für Informationswissenschaft'\n",
            "Fuzzy Match gefunden: 'Zellbiologie' → 'Institut für Zellbiologie' (Score: 0.74)\n",
            "Fuzzy Match gefunden: 'Institut für Klinische Biochemie und Pathobiochemie' → 'Institut für Klinische Chemie und Laboratoriumsdiagnostik' (Score: 0.87)\n",
            "Exakte Übereinstimmung gefunden: 'Institut für Kunstgeschichte' → 'Institut für Kunstgeschichte'\n",
            "Fuzzy Match gefunden: 'Mikrobiologie' → 'Institut für Mikrobiologie' (Score: 0.67)\n",
            "Fuzzy Match gefunden: 'Abt. II: Neuere Dt. Literatur - Lehrstuhl Prof. Nebrig' → 'Abteilung II: Lehrstuhl Neuere Deutsche Literaturwissenschaft' (Score: 0.77)\n",
            "Fuzzy Match gefunden: 'Institut für Zoomorphologie, Zellbiologie und Parasitologie' → 'Institut für Zoologie und Organismische Interaktionen' (Score: 0.76)\n",
            "Fuzzy Match gefunden: 'Institute und Forschungseinrichtungen' → 'Forschungszentrum' (Score: 0.62)\n",
            "Exakte Übereinstimmung gefunden: 'Institut für Biochemie' → 'Institut für Biochemie'\n",
            "Exakte Übereinstimmung gefunden: 'Institut für Anglistik und Amerikanistik' → 'Institut für Anglistik und Amerikanistik'\n",
            "Exakte Übereinstimmung gefunden: 'Institut für Toxikologie' → 'Institut für Toxikologie'\n",
            "Fuzzy Match gefunden: 'Biomolekulare Festkörper-NMR-Spektroskopie' → 'Arbeitsgruppe Supramolekulare Chemie' (Score: 0.58)\n",
            "Fuzzy Match gefunden: 'Institut für Physikalische Chemie und Elektrochemie' → 'Institut für Physikalische Chemie' (Score: 0.86)\n",
            "Fuzzy Match gefunden: 'Abteilung für Lasermassenspektrometrie' → 'Arbeitsgruppe Lasermassenspektroskopie' (Score: 0.77)\n",
            "Exakte Übereinstimmung gefunden: 'Institut für Pharmazeutische und Medizinische Chemie' → 'Institut für Pharmazeutische und Medizinische Chemie'\n",
            "Fuzzy Match gefunden: 'Zentrum für Zahn-, Mund- und Kieferheilkunde - Westdeutsche Kieferklinik' → 'Klinik für Mund-, Kiefer- und Plastische Gesichtschirurgie' (Score: 0.72)\n",
            "Kein passender Match für 'Career Service' gefunden.\n",
            "Fuzzy Match gefunden: 'Anorganische Chemie u. Strukturchemie I' → 'Institut für Anorganische Chemie und Strukturchemie' (Score: 0.79)\n",
            "Fuzzy Match gefunden: 'Zoologie/Organismische Interaktionen' → 'Institut für Zoologie und Organismische Interaktionen' (Score: 0.72)\n",
            "Fuzzy Match gefunden: 'Neurochirugische Klinik' → 'Neurochirurgische Klinik' (Score: 0.97)\n",
            "Fuzzy Match gefunden: 'Klinische Pharmazie und Pharmakotherapie' → 'Institut für Klinische Pharmazie und Pharmakotherapie' (Score: 0.80)\n",
            "Exakte Übereinstimmung gefunden: 'Institut für Experimentelle Psychologie' → 'Institut für Experimentelle Psychologie'\n",
            "Fuzzy Match gefunden: 'C. & O. Vogt-Institut für Hirnforschung' → 'Cécile und Oskar Vogt-Institut für Hirnforschung' (Score: 0.82)\n",
            "Exakte Übereinstimmung gefunden: 'Institut für Philosophie' → 'Institut für Philosophie'\n",
            "Exakte Übereinstimmung gefunden: 'Institut für Herz- und Kreislaufphysiologie' → 'Institut für Herz- und Kreislaufphysiologie'\n",
            "Fuzzy Match gefunden: 'HeiCAD Heine Center of Artificial Intelligence and Data Science' → 'Arbeitsgruppe Data and Knowledge Engineering' (Score: 0.51)\n",
            "Exakte Übereinstimmung gefunden: 'Institut für Genetik' → 'Institut für Genetik'\n",
            "Fuzzy Match gefunden: 'Zentrum für Medizinische Psychologie, Soziologie, Statistik und Allgemeinmedizin' → 'Institut für Medizinische Soziologie' (Score: 0.73)\n",
            "Exakte Übereinstimmung gefunden: 'Augenklinik' → 'Augenklinik'\n",
            "Fuzzy Match gefunden: 'Institut für Geschichtswissenschaften' → 'Institut für Geschichtswissenschaft' (Score: 0.97)\n",
            "Exakte Übereinstimmung gefunden: 'Institut für Geschichte, Theorie und Ethik der Medizin' → 'Institut für Geschichte, Theorie und Ethik der Medizin'\n",
            "Exakte Übereinstimmung gefunden: 'Institut für Biochemie und Molekularbiologie II' → 'Institut für Biochemie und Molekularbiologie II'\n",
            "Fuzzy Match gefunden: 'Chemische Biologie der Proteinaggregation' → 'Lehrstuhl für Biochemie II' (Score: 0.55)\n",
            "Fuzzy Match gefunden: 'Mikrobielle Zellbiologie' → 'Institut für Mikrobielle Zellbiologie' (Score: 0.75)\n",
            "Fuzzy Match gefunden: 'Lehrstuhl Theoretische Physik II' → 'Lehrstuhl IV: Theoretische Festkörperphysik' (Score: 0.82)\n",
            "Exakte Übereinstimmung gefunden: 'Abteilung für Allgemeine Sprachwissenschaft' → 'Abteilung für Allgemeine Sprachwissenschaft'\n",
            "Fuzzy Match gefunden: 'Abteilung für Kommunikations- und Medienwissenschaft' → 'Abteilung Kommunikations- und Medienwissenschaft' (Score: 0.98)\n",
            "Fuzzy Match gefunden: 'Physikalische Grundpraktika' → 'Arbeitsgruppe Physikalische Grundpraktika' (Score: 0.79)\n",
            "Fuzzy Match gefunden: 'Institut für Pharmakologie und Klinische Pharmakologie' → 'Institut für Pharmakologie' (Score: 0.90)\n",
            "Fuzzy Match gefunden: 'Abt. I: Germ. Sprachwissenschaft - Professur Prof. Kasper' → 'Abteilung I: Lehrstuhl für Germanistische Sprachwissenschaft' (Score: 0.70)\n",
            "Fuzzy Match gefunden: 'Klinik für Allgemein- , Viszeral- und Kinderchirurgie' → 'Klinik für Allgemein-, Viszeral- und Kinderchirurgie' (Score: 0.99)\n",
            "Fuzzy Match gefunden: 'Zentrum für Physiologie' → 'Institut für Herz- und Kreislaufphysiologie' (Score: 0.73)\n",
            "Exakte Übereinstimmung gefunden: 'Institut für Neuropathologie' → 'Institut für Neuropathologie'\n",
            "Fuzzy Match gefunden: 'Leibniz-Institut für Umweltmedizinische Forschung an der Heinrich-Heine-Universität Düsseldorf gGmbH' → 'Institut für Arbeits-, Sozial- und Umweltmedizin' (Score: 0.65)\n"
          ]
        }
      ],
      "source": [
        "recode_dict, matching_df = match_unique_organisations(unique_values, mapping_dict, retriever)\n"
      ]
    },
    {
      "cell_type": "code",
      "execution_count": null,
      "metadata": {
        "id": "TMeLNoYVh_-H"
      },
      "outputs": [],
      "source": [
        "def apply_matched_organisations(org_series, recode_dict):\n",
        "    \"\"\"\n",
        "    Wendet das zuvor berechnete Matching Dictionary auf die originale Spalte an,\n",
        "    indem alle Organisationen innerhalb eines Eintrags korrekt ersetzt werden.\n",
        "\n",
        "    :param org_series: Pandas Series mit den ursprünglichen Organisationen\n",
        "    :param recode_dict: Dictionary mit den rekodierten Werten (Originalwert → gematchter Wert)\n",
        "    :return: Pandas Series mit den rekodierten Organisationen\n",
        "    \"\"\"\n",
        "    def map_multiple_orgs(org):\n",
        "        if pd.isna(org):\n",
        "            return None  # Fehlende Werte beibehalten\n",
        "\n",
        "        org_list = [o.strip() for o in org.split(';')]  # Mehrere Organisationen aufteilen\n",
        "        matched_list = [recode_dict.get(o, o) for o in org_list]  # Falls kein Match gefunden wird, Originalwert behalten\n",
        "        matched_list = [m for m in matched_list if m]  # Leere Werte entfernen\n",
        "\n",
        "        return \"; \".join(matched_list) if matched_list else None  # Falls keine Matches, None zurückgeben\n",
        "\n",
        "    return org_series.apply(map_multiple_orgs)\n"
      ]
    },
    {
      "cell_type": "code",
      "execution_count": null,
      "metadata": {
        "id": "9gRsVL-Gh_-H"
      },
      "outputs": [],
      "source": [
        "db_hhu[\"gerit_match\"] = apply_matched_organisations(db_hhu[\"organisation_mehrere\"], recode_dict)\n"
      ]
    },
    {
      "cell_type": "code",
      "execution_count": null,
      "metadata": {
        "id": "B_J68PXAh_-I"
      },
      "outputs": [],
      "source": [
        "matching_df.to_excel(\"matching_results.xlsx\", index=False)"
      ]
    }
  ],
  "metadata": {
    "kernelspec": {
      "display_name": "match_gerit",
      "language": "python",
      "name": "python3"
    },
    "language_info": {
      "codemirror_mode": {
        "name": "ipython",
        "version": 3
      },
      "file_extension": ".py",
      "mimetype": "text/x-python",
      "name": "python",
      "nbconvert_exporter": "python",
      "pygments_lexer": "ipython3",
      "version": "3.9.21"
    },
    "colab": {
      "provenance": []
    }
  },
  "nbformat": 4,
  "nbformat_minor": 0
}