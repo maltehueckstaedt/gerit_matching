{
 "cells": [
  {
   "cell_type": "markdown",
   "metadata": {},
   "source": [
    "# GERIT MATCH"
   ]
  },
  {
   "cell_type": "code",
   "execution_count": 1,
   "metadata": {},
   "outputs": [],
   "source": [
    "# Aktuelles Arbeitsverzeichnis ermitteln\n",
    "import os\n",
    "os.getcwd()\n",
    "os.chdir(\"c:/Users/Hueck/OneDrive/Dokumente/GitHub/gerit_matching\")"
   ]
  },
  {
   "cell_type": "markdown",
   "metadata": {},
   "source": [
    "Lade Daten"
   ]
  },
  {
   "cell_type": "code",
   "execution_count": 2,
   "metadata": {},
   "outputs": [],
   "source": [
    "import pandas as pd\n",
    "\n",
    "db_hhu = pd.read_csv(\"data\\hhu_db_raw.csv\")\n",
    "db_hhu = db_hhu.sample(n=100, random_state=42)  # random_state für Reproduzierbarkeit\n",
    "\n",
    "\n",
    "hhu_gerit = pd.read_excel(\"data/hhu_gerit.xlsx\")"
   ]
  },
  {
   "cell_type": "markdown",
   "metadata": {},
   "source": [
    "Orgas manuell matchen"
   ]
  },
  {
   "cell_type": "code",
   "execution_count": 4,
   "metadata": {},
   "outputs": [
    {
     "ename": "NameError",
     "evalue": "name 'view' is not defined",
     "output_type": "error",
     "traceback": [
      "\u001b[1;31m---------------------------------------------------------------------------\u001b[0m",
      "\u001b[1;31mNameError\u001b[0m                                 Traceback (most recent call last)",
      "Cell \u001b[1;32mIn[4], line 6\u001b[0m\n\u001b[0;32m      4\u001b[0m \u001b[38;5;66;03m# Exakte Matches zuordnen, nicht gefundene bleiben NaN\u001b[39;00m\n\u001b[0;32m      5\u001b[0m db_hhu[\u001b[38;5;124m\"\u001b[39m\u001b[38;5;124mmatched_organisation\u001b[39m\u001b[38;5;124m\"\u001b[39m] \u001b[38;5;241m=\u001b[39m db_hhu[\u001b[38;5;124m\"\u001b[39m\u001b[38;5;124morganisation_mehrere\u001b[39m\u001b[38;5;124m\"\u001b[39m]\u001b[38;5;241m.\u001b[39mmap(mapping_dict)\n\u001b[1;32m----> 6\u001b[0m \u001b[43mview\u001b[49m(db_hhu)\n",
      "\u001b[1;31mNameError\u001b[0m: name 'view' is not defined"
     ]
    }
   ],
   "source": [
    "# Dictionary für schnellen Lookup aus hhu_gerot erstellen\n",
    "mapping_dict = dict(zip(hhu_gerit[\"Einrichtung\"], hhu_gerit[\"Einrichtung\"]))\n",
    "\n",
    "# Exakte Matches zuordnen, nicht gefundene bleiben NaN\n",
    "db_hhu[\"matched_organisation\"] = db_hhu[\"organisation_mehrere\"].map(mapping_dict)\n",
    "view(db_hhu)\n"
   ]
  },
  {
   "cell_type": "code",
   "execution_count": null,
   "metadata": {},
   "outputs": [],
   "source": [
    "# def exact_match(query, mapping_dict):\n",
    "#     if not isinstance(query, str):\n",
    "#         return None\n",
    "#     orgs = [org.strip() for org in query.split(';')]  # Aufteilen und trimmen\n",
    "#     matched_orgs = [mapping_dict.get(org, None) for org in orgs]  # Exakte Übereinstimmung prüfen\n",
    "#     return \"; \".join(filter(None, matched_orgs)) if any(matched_orgs) else None  # Joinen, falls Matches vorhanden\n",
    "\n",
    "# # Anwenden auf DataFrame\n",
    "# db_hhu[\"matched_organisation\"] = db_hhu[\"organisation_mehrere\"].apply(lambda x: exact_match(x, mapping_dict))\n"
   ]
  },
  {
   "cell_type": "markdown",
   "metadata": {},
   "source": [
    "### LLM laden\n",
    "\n"
   ]
  },
  {
   "cell_type": "code",
   "execution_count": 4,
   "metadata": {},
   "outputs": [],
   "source": [
    "from dotenv import load_dotenv\n",
    "\n",
    "# Lade Umgebungsvariablen aus der .env Datei\n",
    "load_dotenv()\n",
    "\n",
    "from langchain_openai import ChatOpenAI\n",
    "llm = ChatOpenAI(model=\"gpt-4o-mini\")"
   ]
  },
  {
   "cell_type": "code",
   "execution_count": null,
   "metadata": {},
   "outputs": [],
   "source": [
    "import openai\n",
    "import pandas as pd\n",
    "from langchain_openai import OpenAIEmbeddings\n",
    "from langchain_core.vectorstores import InMemoryVectorStore\n",
    "from langchain.agents.agent_toolkits import create_retriever_tool\n",
    "\n",
    "\n",
    "# Funktion zur Erstellung von Embeddings mit dem neuen Modell\n",
    "embeddings = OpenAIEmbeddings(model=\"text-embedding-3-large\")\n",
    "\n",
    "# Erstelle InMemoryVectorStore für GERIT-Organisationen\n",
    "vector_store = InMemoryVectorStore(embeddings)\n",
    "\n",
    "# Alle Organisationen aus GERIT zu den Vektoren hinzufügen\n",
    "vector_store.add_texts(hhu_gerit[\"Einrichtung\"].tolist())\n",
    "\n",
    "# Retriever erstellen (Suche nach den 5 ähnlichsten Treffern)\n",
    "retriever = vector_store.as_retriever(search_kwargs={\"k\": 5})\n",
    "\n",
    "# Beschreibung für den Retriever\n",
    "description = (\n",
    "    \"Use to look up values to filter on. Input is an approximate spelling \"\n",
    "    \"of the proper noun, output is valid proper nouns. Use the noun most \"\n",
    "    \"similar to the search.\"\n",
    ")\n",
    "\n",
    "# Retriever-Tool erstellen\n",
    "retriever_tool = create_retriever_tool(\n",
    "    retriever,\n",
    "    name=\"search_proper_nouns\",\n",
    "    description=description,\n",
    ")\n",
    "\n",
    "# Funktion zum Abgleichen von Organisationen\n",
    "def match_organisation(query, retriever):\n",
    "    if not isinstance(query, str):  # Falls query kein String ist (NaN oder float)\n",
    "        return None  # Oder alternativ \"\" für leeren String\n",
    "    \n",
    "    org_names = query.split(';')  # Aufteilen bei Semikolon (falls mehrere Organisationen)\n",
    "    best_match = None\n",
    "\n",
    "    for org in org_names:\n",
    "        result = retriever.get_relevant_documents(org.strip())  # Korrekte Methode\n",
    "        if result:\n",
    "            match = result[0]  # Nimm den besten Treffer\n",
    "            best_match = match.page_content  # Korrekte Zugriffsmethode\n",
    "\n",
    "    return best_match\n",
    "\n",
    "\n",
    "\n",
    "\n",
    "# Zuordnung der Organisationen aus db_hhu zu den GERIT-Organisationen\n",
    "db_hhu[\"matched_organisation\"] = db_hhu[\"organisation_mehrere\"].apply(lambda x: match_organisation(x, retriever))\n",
    "\n",
    "# Ergebnisse ausgeben\n",
    "print(db_hhu)\n",
    "\n"
   ]
  }
 ],
 "metadata": {
  "kernelspec": {
   "display_name": "match_gerit",
   "language": "python",
   "name": "python3"
  },
  "language_info": {
   "codemirror_mode": {
    "name": "ipython",
    "version": 3
   },
   "file_extension": ".py",
   "mimetype": "text/x-python",
   "name": "python",
   "nbconvert_exporter": "python",
   "pygments_lexer": "ipython3",
   "version": "3.9.21"
  }
 },
 "nbformat": 4,
 "nbformat_minor": 2
}
